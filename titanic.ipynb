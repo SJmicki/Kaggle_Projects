{
 "cells": [
  {
   "cell_type": "code",
   "execution_count": 1,
   "id": "3aa9c1fa",
   "metadata": {
    "_cell_guid": "b1076dfc-b9ad-4769-8c92-a6c4dae69d19",
    "_uuid": "8f2839f25d086af736a60e9eeb907d3b93b6e0e5",
    "execution": {
     "iopub.execute_input": "2021-08-12T07:56:58.613199Z",
     "iopub.status.busy": "2021-08-12T07:56:58.612534Z",
     "iopub.status.idle": "2021-08-12T07:56:58.619849Z",
     "shell.execute_reply": "2021-08-12T07:56:58.618163Z",
     "shell.execute_reply.started": "2021-08-12T07:09:24.362006Z"
    },
    "papermill": {
     "duration": 0.031398,
     "end_time": "2021-08-12T07:56:58.620055",
     "exception": false,
     "start_time": "2021-08-12T07:56:58.588657",
     "status": "completed"
    },
    "tags": []
   },
   "outputs": [
    {
     "name": "stdout",
     "output_type": "stream",
     "text": [
      "/kaggle/input/titanic/train.csv\n",
      "/kaggle/input/titanic/test.csv\n",
      "/kaggle/input/titanic/gender_submission.csv\n"
     ]
    }
   ],
   "source": [
    "# This Python 3 environment comes with many helpful analytics libraries installed\n",
    "# It is defined by the kaggle/python Docker image: https://github.com/kaggle/docker-python\n",
    "# For example, here's several helpful packages to load\n",
    "\n",
    "import numpy as np # linear algebra\n",
    "import pandas as pd # data processing, CSV file I/O (e.g. pd.read_csv)\n",
    "\n",
    "# Input data files are available in the read-only \"../input/\" directory\n",
    "# For example, running this (by clicking run or pressing Shift+Enter) will list all files under the input directory\n",
    "\n",
    "import os\n",
    "for dirname, _, filenames in os.walk('/kaggle/input'):\n",
    "    for filename in filenames:\n",
    "        print(os.path.join(dirname, filename))\n",
    "\n",
    "# You can write up to 20GB to the current directory (/kaggle/working/) that gets preserved as output when you create a version using \"Save & Run All\" \n",
    "# You can also write temporary files to /kaggle/temp/, but they won't be saved outside of the current session"
   ]
  },
  {
   "cell_type": "code",
   "execution_count": 2,
   "id": "474643cf",
   "metadata": {
    "execution": {
     "iopub.execute_input": "2021-08-12T07:56:58.651527Z",
     "iopub.status.busy": "2021-08-12T07:56:58.650786Z",
     "iopub.status.idle": "2021-08-12T07:56:59.923109Z",
     "shell.execute_reply": "2021-08-12T07:56:59.922433Z",
     "shell.execute_reply.started": "2021-08-12T07:09:24.376627Z"
    },
    "papermill": {
     "duration": 1.290825,
     "end_time": "2021-08-12T07:56:59.923260",
     "exception": false,
     "start_time": "2021-08-12T07:56:58.632435",
     "status": "completed"
    },
    "tags": []
   },
   "outputs": [],
   "source": [
    "import random as rnd\n",
    "\n",
    "# visualization\n",
    "import seaborn as sns\n",
    "import matplotlib.pyplot as plt\n",
    "%matplotlib inline\n",
    "\n",
    "# machine learning\n",
    "from sklearn.linear_model import LogisticRegression\n",
    "from sklearn.svm import SVC, LinearSVC\n",
    "from sklearn.ensemble import RandomForestClassifier\n",
    "from sklearn.neighbors import KNeighborsClassifier\n",
    "from sklearn.naive_bayes import GaussianNB\n",
    "from sklearn.linear_model import Perceptron\n",
    "from sklearn.linear_model import SGDClassifier\n",
    "from sklearn.tree import DecisionTreeClassifier\n",
    "\n",
    "train_df = pd.read_csv('/kaggle/input/titanic/train.csv')\n",
    "test_df = pd.read_csv('/kaggle/input/titanic/test.csv')"
   ]
  },
  {
   "cell_type": "code",
   "execution_count": 3,
   "id": "aede4417",
   "metadata": {
    "execution": {
     "iopub.execute_input": "2021-08-12T07:56:59.956564Z",
     "iopub.status.busy": "2021-08-12T07:56:59.955784Z",
     "iopub.status.idle": "2021-08-12T07:57:01.255002Z",
     "shell.execute_reply": "2021-08-12T07:57:01.254467Z",
     "shell.execute_reply.started": "2021-08-12T07:09:24.412985Z"
    },
    "papermill": {
     "duration": 1.319666,
     "end_time": "2021-08-12T07:57:01.255148",
     "exception": false,
     "start_time": "2021-08-12T07:56:59.935482",
     "status": "completed"
    },
    "tags": []
   },
   "outputs": [
    {
     "name": "stdout",
     "output_type": "stream",
     "text": [
      "   Pclass  Survived\n",
      "0       1  0.629630\n",
      "1       2  0.472826\n",
      "2       3  0.242363\n",
      "   SibSp  Survived\n",
      "1      1  0.535885\n",
      "2      2  0.464286\n",
      "0      0  0.345395\n",
      "3      3  0.250000\n",
      "4      4  0.166667\n",
      "5      5  0.000000\n",
      "6      8  0.000000\n",
      "   Parch  Survived\n",
      "3      3  0.600000\n",
      "1      1  0.550847\n",
      "2      2  0.500000\n",
      "0      0  0.343658\n",
      "5      5  0.200000\n",
      "4      4  0.000000\n",
      "6      6  0.000000\n"
     ]
    },
    {
     "name": "stderr",
     "output_type": "stream",
     "text": [
      "/opt/conda/lib/python3.7/site-packages/seaborn/axisgrid.py:316: UserWarning: The `size` parameter has been renamed to `height`; please update your code.\n",
      "  warnings.warn(msg, UserWarning)\n",
      "/opt/conda/lib/python3.7/site-packages/seaborn/axisgrid.py:643: UserWarning: Using the barplot function without specifying `order` is likely to produce an incorrect plot.\n",
      "  warnings.warn(warning)\n"
     ]
    },
    {
     "data": {
      "text/plain": [
       "<seaborn.axisgrid.FacetGrid at 0x7f2b46069a10>"
      ]
     },
     "execution_count": 3,
     "metadata": {},
     "output_type": "execute_result"
    },
    {
     "data": {
      "image/png": "[encoded data removed]",
      "text/plain": [
       "<Figure size 432x288 with 1 Axes>"
      ]
     },
     "metadata": {
      "needs_background": "light"
     },
     "output_type": "display_data"
    },
    {
     "data": {
      "image/png": "[encoded data removed]",
      "text/plain": [
       "<Figure size 514.88x475.2 with 6 Axes>"
      ]
     },
     "metadata": {
      "needs_background": "light"
     },
     "output_type": "display_data"
    }
   ],
   "source": [
    "train_df.describe()\n",
    "plt.scatter(np.arange(len(train_df['Fare'])), train_df['Fare'])\n",
    "print(train_df[['Pclass', 'Survived']].groupby(['Pclass'], as_index=False).mean().sort_values(by='Survived', ascending=False))\n",
    "print(train_df[['SibSp', 'Survived']].groupby(['SibSp'], as_index=False).mean().sort_values(by='Survived', ascending=False))\n",
    "print(train_df[['Parch', 'Survived']].groupby(['Parch'], as_index=False).mean().sort_values(by='Survived', ascending=False))\n",
    "train_df[['Embarked', 'Survived']].groupby(['Embarked'], as_index=False).mean().sort_values(by='Survived', ascending=False)\n",
    "train_df[['Pclass', 'Survived']].groupby(['Pclass'], as_index=False).mean().sort_values(by='Survived', ascending=False)\n",
    "grid = sns.FacetGrid(train_df, row='Embarked', col='Survived', size=2.2, aspect=1.6)\n",
    "grid.map(sns.barplot, 'Sex', 'Fare', alpha=.5, ci=None)\n",
    "grid.add_legend()"
   ]
  },
  {
   "cell_type": "code",
   "execution_count": 4,
   "id": "a7105492",
   "metadata": {
    "execution": {
     "iopub.execute_input": "2021-08-12T07:57:01.316538Z",
     "iopub.status.busy": "2021-08-12T07:57:01.307645Z",
     "iopub.status.idle": "2021-08-12T07:57:01.351920Z",
     "shell.execute_reply": "2021-08-12T07:57:01.351150Z",
     "shell.execute_reply.started": "2021-08-12T07:09:25.789942Z"
    },
    "papermill": {
     "duration": 0.081947,
     "end_time": "2021-08-12T07:57:01.352111",
     "exception": false,
     "start_time": "2021-08-12T07:57:01.270164",
     "status": "completed"
    },
    "tags": []
   },
   "outputs": [
    {
     "name": "stdout",
     "output_type": "stream",
     "text": [
      "Mr          517\n",
      "Miss        182\n",
      "Mrs         125\n",
      "Master       40\n",
      "Dr            7\n",
      "Rev           6\n",
      "Major         2\n",
      "Mlle          2\n",
      "Col           2\n",
      "Lady          1\n",
      "Capt          1\n",
      "Jonkheer      1\n",
      "Ms            1\n",
      "Mme           1\n",
      "Sir           1\n",
      "Don           1\n",
      "Countess      1\n",
      "Name: Title, dtype: int64\n",
      "Mr      517\n",
      "Miss    185\n",
      "Mrs     126\n",
      "Rare     63\n",
      "Name: Title, dtype: int64\n"
     ]
    },
    {
     "data": {
      "text/html": [
       "<div>\n",
       "<style scoped>\n",
       "    .dataframe tbody tr th:only-of-type {\n",
       "        vertical-align: middle;\n",
       "    }\n",
       "\n",
       "    .dataframe tbody tr th {\n",
       "        vertical-align: top;\n",
       "    }\n",
       "\n",
       "    .dataframe thead th {\n",
       "        text-align: right;\n",
       "    }\n",
       "</style>\n",
       "<table border=\"1\" class=\"dataframe\">\n",
       "  <thead>\n",
       "    <tr style=\"text-align: right;\">\n",
       "      <th></th>\n",
       "      <th>PassengerId</th>\n",
       "      <th>Pclass</th>\n",
       "      <th>Age</th>\n",
       "      <th>SibSp</th>\n",
       "      <th>Parch</th>\n",
       "      <th>Fare</th>\n",
       "      <th>Title</th>\n",
       "    </tr>\n",
       "  </thead>\n",
       "  <tbody>\n",
       "    <tr>\n",
       "      <th>count</th>\n",
       "      <td>418.000000</td>\n",
       "      <td>418.000000</td>\n",
       "      <td>332.000000</td>\n",
       "      <td>418.000000</td>\n",
       "      <td>418.000000</td>\n",
       "      <td>417.000000</td>\n",
       "      <td>418.000000</td>\n",
       "    </tr>\n",
       "    <tr>\n",
       "      <th>mean</th>\n",
       "      <td>1100.500000</td>\n",
       "      <td>2.265550</td>\n",
       "      <td>30.272590</td>\n",
       "      <td>0.447368</td>\n",
       "      <td>0.392344</td>\n",
       "      <td>35.627188</td>\n",
       "      <td>1.727273</td>\n",
       "    </tr>\n",
       "    <tr>\n",
       "      <th>std</th>\n",
       "      <td>120.810458</td>\n",
       "      <td>0.841838</td>\n",
       "      <td>14.181209</td>\n",
       "      <td>0.896760</td>\n",
       "      <td>0.981429</td>\n",
       "      <td>55.907576</td>\n",
       "      <td>0.965731</td>\n",
       "    </tr>\n",
       "    <tr>\n",
       "      <th>min</th>\n",
       "      <td>892.000000</td>\n",
       "      <td>1.000000</td>\n",
       "      <td>0.170000</td>\n",
       "      <td>0.000000</td>\n",
       "      <td>0.000000</td>\n",
       "      <td>0.000000</td>\n",
       "      <td>1.000000</td>\n",
       "    </tr>\n",
       "    <tr>\n",
       "      <th>25%</th>\n",
       "      <td>996.250000</td>\n",
       "      <td>1.000000</td>\n",
       "      <td>21.000000</td>\n",
       "      <td>0.000000</td>\n",
       "      <td>0.000000</td>\n",
       "      <td>7.895800</td>\n",
       "      <td>1.000000</td>\n",
       "    </tr>\n",
       "    <tr>\n",
       "      <th>50%</th>\n",
       "      <td>1100.500000</td>\n",
       "      <td>3.000000</td>\n",
       "      <td>27.000000</td>\n",
       "      <td>0.000000</td>\n",
       "      <td>0.000000</td>\n",
       "      <td>14.454200</td>\n",
       "      <td>1.000000</td>\n",
       "    </tr>\n",
       "    <tr>\n",
       "      <th>75%</th>\n",
       "      <td>1204.750000</td>\n",
       "      <td>3.000000</td>\n",
       "      <td>39.000000</td>\n",
       "      <td>1.000000</td>\n",
       "      <td>0.000000</td>\n",
       "      <td>31.500000</td>\n",
       "      <td>2.000000</td>\n",
       "    </tr>\n",
       "    <tr>\n",
       "      <th>max</th>\n",
       "      <td>1309.000000</td>\n",
       "      <td>3.000000</td>\n",
       "      <td>76.000000</td>\n",
       "      <td>8.000000</td>\n",
       "      <td>9.000000</td>\n",
       "      <td>512.329200</td>\n",
       "      <td>4.000000</td>\n",
       "    </tr>\n",
       "  </tbody>\n",
       "</table>\n",
       "</div>"
      ],
      "text/plain": [
       "       PassengerId      Pclass         Age       SibSp       Parch  \\\n",
       "count   418.000000  418.000000  332.000000  418.000000  418.000000   \n",
       "mean   1100.500000    2.265550   30.272590    0.447368    0.392344   \n",
       "std     120.810458    0.841838   14.181209    0.896760    0.981429   \n",
       "min     892.000000    1.000000    0.170000    0.000000    0.000000   \n",
       "25%     996.250000    1.000000   21.000000    0.000000    0.000000   \n",
       "50%    1100.500000    3.000000   27.000000    0.000000    0.000000   \n",
       "75%    1204.750000    3.000000   39.000000    1.000000    0.000000   \n",
       "max    1309.000000    3.000000   76.000000    8.000000    9.000000   \n",
       "\n",
       "             Fare       Title  \n",
       "count  417.000000  418.000000  \n",
       "mean    35.627188    1.727273  \n",
       "std     55.907576    0.965731  \n",
       "min      0.000000    1.000000  \n",
       "25%      7.895800    1.000000  \n",
       "50%     14.454200    1.000000  \n",
       "75%     31.500000    2.000000  \n",
       "max    512.329200    4.000000  "
      ]
     },
     "execution_count": 4,
     "metadata": {},
     "output_type": "execute_result"
    }
   ],
   "source": [
    "train_df.drop(['Ticket','Cabin'], axis=1, inplace=True)\n",
    "test_df.drop(['Ticket','Cabin'], axis=1, inplace=True)\n",
    "combine=[train_df, test_df]\n",
    "for dataset in combine:\n",
    "    dataset['Title'] = dataset.Name.str.extract('([A-Za-z]+)\\.', expand=False)\n",
    "print(train_df.Title.value_counts())\n",
    "for dataset in combine:\n",
    "    dataset.Title = dataset.Title.replace(['Mlle','Ms'],'Miss')\n",
    "    dataset.Title = dataset.Title.replace('Mme', 'Mrs')\n",
    "    dataset.loc[~dataset.Title.isin(['Mr','Miss','Mrs']),'Title']= 'Rare'\n",
    "print(train_df.Title.value_counts())\n",
    "\n",
    "title_mapping={'Mr':1, 'Miss':2, 'Mrs':3, 'Rare':4}\n",
    "for dataset in combine:\n",
    "    dataset['Title']=dataset['Title'].map(title_mapping)\n",
    "    dataset['Title'] = dataset['Title'].fillna(0)\n",
    "train_df.drop(['Name','PassengerId'],axis=1, inplace=True)\n",
    "test_df.drop('Name', axis=1, inplace=True)\n",
    "test_df.describe()"
   ]
  },
  {
   "cell_type": "code",
   "execution_count": 5,
   "id": "67a87c5f",
   "metadata": {
    "execution": {
     "iopub.execute_input": "2021-08-12T07:57:01.393394Z",
     "iopub.status.busy": "2021-08-12T07:57:01.392514Z",
     "iopub.status.idle": "2021-08-12T07:57:01.454257Z",
     "shell.execute_reply": "2021-08-12T07:57:01.453728Z",
     "shell.execute_reply.started": "2021-08-12T07:09:25.865907Z"
    },
    "papermill": {
     "duration": 0.086014,
     "end_time": "2021-08-12T07:57:01.454384",
     "exception": false,
     "start_time": "2021-08-12T07:57:01.368370",
     "status": "completed"
    },
    "tags": []
   },
   "outputs": [
    {
     "data": {
      "text/html": [
       "<div>\n",
       "<style scoped>\n",
       "    .dataframe tbody tr th:only-of-type {\n",
       "        vertical-align: middle;\n",
       "    }\n",
       "\n",
       "    .dataframe tbody tr th {\n",
       "        vertical-align: top;\n",
       "    }\n",
       "\n",
       "    .dataframe thead th {\n",
       "        text-align: right;\n",
       "    }\n",
       "</style>\n",
       "<table border=\"1\" class=\"dataframe\">\n",
       "  <thead>\n",
       "    <tr style=\"text-align: right;\">\n",
       "      <th></th>\n",
       "      <th>PassengerId</th>\n",
       "      <th>Pclass</th>\n",
       "      <th>Sex</th>\n",
       "      <th>Age</th>\n",
       "      <th>SibSp</th>\n",
       "      <th>Parch</th>\n",
       "      <th>Fare</th>\n",
       "      <th>Embarked</th>\n",
       "      <th>Title</th>\n",
       "    </tr>\n",
       "  </thead>\n",
       "  <tbody>\n",
       "    <tr>\n",
       "      <th>count</th>\n",
       "      <td>418.000000</td>\n",
       "      <td>418.000000</td>\n",
       "      <td>418.000000</td>\n",
       "      <td>418.000000</td>\n",
       "      <td>418.000000</td>\n",
       "      <td>418.000000</td>\n",
       "      <td>418.000000</td>\n",
       "      <td>418.000000</td>\n",
       "      <td>418.000000</td>\n",
       "    </tr>\n",
       "    <tr>\n",
       "      <th>mean</th>\n",
       "      <td>1100.500000</td>\n",
       "      <td>2.265550</td>\n",
       "      <td>1.363636</td>\n",
       "      <td>30.090909</td>\n",
       "      <td>0.447368</td>\n",
       "      <td>0.392344</td>\n",
       "      <td>35.560845</td>\n",
       "      <td>1.464115</td>\n",
       "      <td>1.727273</td>\n",
       "    </tr>\n",
       "    <tr>\n",
       "      <th>std</th>\n",
       "      <td>120.810458</td>\n",
       "      <td>0.841838</td>\n",
       "      <td>0.481622</td>\n",
       "      <td>13.925680</td>\n",
       "      <td>0.896760</td>\n",
       "      <td>0.981429</td>\n",
       "      <td>55.856972</td>\n",
       "      <td>0.685516</td>\n",
       "      <td>0.965731</td>\n",
       "    </tr>\n",
       "    <tr>\n",
       "      <th>min</th>\n",
       "      <td>892.000000</td>\n",
       "      <td>1.000000</td>\n",
       "      <td>1.000000</td>\n",
       "      <td>0.000000</td>\n",
       "      <td>0.000000</td>\n",
       "      <td>0.000000</td>\n",
       "      <td>0.000000</td>\n",
       "      <td>1.000000</td>\n",
       "      <td>1.000000</td>\n",
       "    </tr>\n",
       "    <tr>\n",
       "      <th>25%</th>\n",
       "      <td>996.250000</td>\n",
       "      <td>1.000000</td>\n",
       "      <td>1.000000</td>\n",
       "      <td>22.000000</td>\n",
       "      <td>0.000000</td>\n",
       "      <td>0.000000</td>\n",
       "      <td>7.895800</td>\n",
       "      <td>1.000000</td>\n",
       "      <td>1.000000</td>\n",
       "    </tr>\n",
       "    <tr>\n",
       "      <th>50%</th>\n",
       "      <td>1100.500000</td>\n",
       "      <td>3.000000</td>\n",
       "      <td>1.000000</td>\n",
       "      <td>27.000000</td>\n",
       "      <td>0.000000</td>\n",
       "      <td>0.000000</td>\n",
       "      <td>14.454200</td>\n",
       "      <td>1.000000</td>\n",
       "      <td>1.000000</td>\n",
       "    </tr>\n",
       "    <tr>\n",
       "      <th>75%</th>\n",
       "      <td>1204.750000</td>\n",
       "      <td>3.000000</td>\n",
       "      <td>2.000000</td>\n",
       "      <td>39.000000</td>\n",
       "      <td>1.000000</td>\n",
       "      <td>0.000000</td>\n",
       "      <td>31.471875</td>\n",
       "      <td>2.000000</td>\n",
       "      <td>2.000000</td>\n",
       "    </tr>\n",
       "    <tr>\n",
       "      <th>max</th>\n",
       "      <td>1309.000000</td>\n",
       "      <td>3.000000</td>\n",
       "      <td>2.000000</td>\n",
       "      <td>76.000000</td>\n",
       "      <td>8.000000</td>\n",
       "      <td>9.000000</td>\n",
       "      <td>512.329200</td>\n",
       "      <td>3.000000</td>\n",
       "      <td>4.000000</td>\n",
       "    </tr>\n",
       "  </tbody>\n",
       "</table>\n",
       "</div>"
      ],
      "text/plain": [
       "       PassengerId      Pclass         Sex         Age       SibSp  \\\n",
       "count   418.000000  418.000000  418.000000  418.000000  418.000000   \n",
       "mean   1100.500000    2.265550    1.363636   30.090909    0.447368   \n",
       "std     120.810458    0.841838    0.481622   13.925680    0.896760   \n",
       "min     892.000000    1.000000    1.000000    0.000000    0.000000   \n",
       "25%     996.250000    1.000000    1.000000   22.000000    0.000000   \n",
       "50%    1100.500000    3.000000    1.000000   27.000000    0.000000   \n",
       "75%    1204.750000    3.000000    2.000000   39.000000    1.000000   \n",
       "max    1309.000000    3.000000    2.000000   76.000000    8.000000   \n",
       "\n",
       "            Parch        Fare    Embarked       Title  \n",
       "count  418.000000  418.000000  418.000000  418.000000  \n",
       "mean     0.392344   35.560845    1.464115    1.727273  \n",
       "std      0.981429   55.856972    0.685516    0.965731  \n",
       "min      0.000000    0.000000    1.000000    1.000000  \n",
       "25%      0.000000    7.895800    1.000000    1.000000  \n",
       "50%      0.000000   14.454200    1.000000    1.000000  \n",
       "75%      0.000000   31.471875    2.000000    2.000000  \n",
       "max      9.000000  512.329200    3.000000    4.000000  "
      ]
     },
     "execution_count": 5,
     "metadata": {},
     "output_type": "execute_result"
    }
   ],
   "source": [
    "\n",
    "sex_mapping = {'male':1, 'female':2}\n",
    "embarked_mapping = {'S':1, 'C':2, 'Q':3, 'Rare':4}\n",
    "combine = [train_df, test_df]\n",
    "for dataset in combine:\n",
    "    dataset.sort_values(by=['Sex','Embarked','Title','SibSp','Parch','Age'])\n",
    "    dataset.fillna(method='ffill', inplace=True)\n",
    "    dataset['Age'] = dataset['Age'].astype(int)\n",
    "    dataset['Sex'] = dataset['Sex'].map(sex_mapping)\n",
    "    dataset['Embarked'] = dataset['Embarked'].map(embarked_mapping)\n",
    "\n",
    "train_df['AgeBand'] = pd.cut(train_df['Age'], 5, precision=0)\n",
    "train_df[['AgeBand', 'Survived']].groupby(['AgeBand'], as_index=False).mean().sort_values(by='AgeBand', ascending=True)\n",
    "\n",
    "test_df.describe()"
   ]
  },
  {
   "cell_type": "code",
   "execution_count": 6,
   "id": "44d9eff2",
   "metadata": {
    "execution": {
     "iopub.execute_input": "2021-08-12T07:57:01.518954Z",
     "iopub.status.busy": "2021-08-12T07:57:01.517976Z",
     "iopub.status.idle": "2021-08-12T07:57:01.523195Z",
     "shell.execute_reply": "2021-08-12T07:57:01.522577Z",
     "shell.execute_reply.started": "2021-08-12T07:09:25.941293Z"
    },
    "papermill": {
     "duration": 0.052503,
     "end_time": "2021-08-12T07:57:01.523325",
     "exception": false,
     "start_time": "2021-08-12T07:57:01.470822",
     "status": "completed"
    },
    "tags": []
   },
   "outputs": [
    {
     "data": {
      "text/html": [
       "<div>\n",
       "<style scoped>\n",
       "    .dataframe tbody tr th:only-of-type {\n",
       "        vertical-align: middle;\n",
       "    }\n",
       "\n",
       "    .dataframe tbody tr th {\n",
       "        vertical-align: top;\n",
       "    }\n",
       "\n",
       "    .dataframe thead th {\n",
       "        text-align: right;\n",
       "    }\n",
       "</style>\n",
       "<table border=\"1\" class=\"dataframe\">\n",
       "  <thead>\n",
       "    <tr style=\"text-align: right;\">\n",
       "      <th></th>\n",
       "      <th>Survived</th>\n",
       "      <th>Pclass</th>\n",
       "      <th>Sex</th>\n",
       "      <th>Age</th>\n",
       "      <th>SibSp</th>\n",
       "      <th>Parch</th>\n",
       "      <th>Fare</th>\n",
       "      <th>Embarked</th>\n",
       "      <th>Title</th>\n",
       "    </tr>\n",
       "  </thead>\n",
       "  <tbody>\n",
       "    <tr>\n",
       "      <th>0</th>\n",
       "      <td>0</td>\n",
       "      <td>3</td>\n",
       "      <td>1</td>\n",
       "      <td>1</td>\n",
       "      <td>1</td>\n",
       "      <td>0</td>\n",
       "      <td>7.2500</td>\n",
       "      <td>1</td>\n",
       "      <td>1</td>\n",
       "    </tr>\n",
       "    <tr>\n",
       "      <th>1</th>\n",
       "      <td>1</td>\n",
       "      <td>1</td>\n",
       "      <td>2</td>\n",
       "      <td>2</td>\n",
       "      <td>1</td>\n",
       "      <td>0</td>\n",
       "      <td>71.2833</td>\n",
       "      <td>2</td>\n",
       "      <td>3</td>\n",
       "    </tr>\n",
       "    <tr>\n",
       "      <th>2</th>\n",
       "      <td>1</td>\n",
       "      <td>3</td>\n",
       "      <td>2</td>\n",
       "      <td>1</td>\n",
       "      <td>0</td>\n",
       "      <td>0</td>\n",
       "      <td>7.9250</td>\n",
       "      <td>1</td>\n",
       "      <td>2</td>\n",
       "    </tr>\n",
       "    <tr>\n",
       "      <th>3</th>\n",
       "      <td>1</td>\n",
       "      <td>1</td>\n",
       "      <td>2</td>\n",
       "      <td>2</td>\n",
       "      <td>1</td>\n",
       "      <td>0</td>\n",
       "      <td>53.1000</td>\n",
       "      <td>1</td>\n",
       "      <td>3</td>\n",
       "    </tr>\n",
       "    <tr>\n",
       "      <th>4</th>\n",
       "      <td>0</td>\n",
       "      <td>3</td>\n",
       "      <td>1</td>\n",
       "      <td>2</td>\n",
       "      <td>0</td>\n",
       "      <td>0</td>\n",
       "      <td>8.0500</td>\n",
       "      <td>1</td>\n",
       "      <td>1</td>\n",
       "    </tr>\n",
       "  </tbody>\n",
       "</table>\n",
       "</div>"
      ],
      "text/plain": [
       "   Survived  Pclass  Sex  Age  SibSp  Parch     Fare  Embarked  Title\n",
       "0         0       3    1    1      1      0   7.2500         1      1\n",
       "1         1       1    2    2      1      0  71.2833         2      3\n",
       "2         1       3    2    1      0      0   7.9250         1      2\n",
       "3         1       1    2    2      1      0  53.1000         1      3\n",
       "4         0       3    1    2      0      0   8.0500         1      1"
      ]
     },
     "execution_count": 6,
     "metadata": {},
     "output_type": "execute_result"
    }
   ],
   "source": [
    "interval=train_df['AgeBand'].unique().sort_values()\n",
    "for dataset in combine:\n",
    "    dataset.loc[dataset['Age']<=interval[0].right,'Age'] = 0\n",
    "    dataset.loc[(dataset['Age']>interval[1].left)&(dataset['Age']<=interval[1].right),'Age'] = 1\n",
    "    dataset.loc[(dataset['Age']>interval[2].left)&(dataset['Age']<=interval[2].right),'Age'] = 2\n",
    "    dataset.loc[(dataset['Age']>interval[3].left)&(dataset['Age']<=interval[3].right),'Age'] = 3\n",
    "    dataset.loc[(dataset['Age']>interval[4].left)&(dataset['Age']<=interval[4].right),'Age'] = 4\n",
    "    \n",
    "train_df.drop(columns=['AgeBand'],inplace=True)\n",
    "train_df.head()"
   ]
  },
  {
   "cell_type": "code",
   "execution_count": 7,
   "id": "7b8e4dc1",
   "metadata": {
    "execution": {
     "iopub.execute_input": "2021-08-12T07:57:01.569404Z",
     "iopub.status.busy": "2021-08-12T07:57:01.565969Z",
     "iopub.status.idle": "2021-08-12T07:57:01.573202Z",
     "shell.execute_reply": "2021-08-12T07:57:01.572694Z",
     "shell.execute_reply.started": "2021-08-12T07:09:25.980395Z"
    },
    "papermill": {
     "duration": 0.032478,
     "end_time": "2021-08-12T07:57:01.573327",
     "exception": false,
     "start_time": "2021-08-12T07:57:01.540849",
     "status": "completed"
    },
    "tags": []
   },
   "outputs": [],
   "source": [
    "combine=[train_df, test_df]\n",
    "for dataset in combine:\n",
    "    dataset['FamilySize'] = dataset['SibSp'] + dataset['Parch'] + 1\n",
    "    dataset['IsAlone'] = 0\n",
    "    dataset.loc[dataset['FamilySize']==1,'IsAlone'] = 1\n",
    "    dataset.drop(['SibSp', 'Parch'], inplace=True, axis=1)\n"
   ]
  },
  {
   "cell_type": "code",
   "execution_count": 8,
   "id": "74df4e61",
   "metadata": {
    "execution": {
     "iopub.execute_input": "2021-08-12T07:57:01.616942Z",
     "iopub.status.busy": "2021-08-12T07:57:01.615972Z",
     "iopub.status.idle": "2021-08-12T07:57:01.642524Z",
     "shell.execute_reply": "2021-08-12T07:57:01.641857Z",
     "shell.execute_reply.started": "2021-08-12T07:09:25.997368Z"
    },
    "papermill": {
     "duration": 0.052196,
     "end_time": "2021-08-12T07:57:01.642716",
     "exception": false,
     "start_time": "2021-08-12T07:57:01.590520",
     "status": "completed"
    },
    "tags": []
   },
   "outputs": [
    {
     "name": "stdout",
     "output_type": "stream",
     "text": [
      "   Survived  Pclass  Sex  Age  Fare  Embarked  Title  FamilySize  IsAlone\n",
      "0         0       3    1    1   0.0         1      1           2        0\n",
      "1         1       1    2    2   3.0         2      3           2        0\n",
      "2         1       3    2    1   0.0         1      2           1        1\n",
      "3         1       1    2    2   3.0         1      3           2        0\n",
      "4         0       3    1    2   1.0         1      1           1        1\n",
      "   PassengerId  Pclass  Sex  Age  Fare  Embarked  Title  FamilySize  IsAlone\n",
      "0          892       3    1    2   0.0         3      1           1        1\n",
      "1          893       3    2    2   0.0         1      3           2        0\n",
      "2          894       2    1    3   1.0         3      1           1        1\n",
      "3          895       3    1    1   1.0         1      1           1        1\n",
      "4          896       3    2    1   1.0         1      3           3        0\n"
     ]
    }
   ],
   "source": [
    "train_df['FareBand'] = pd.qcut(train_df['Fare'], 4, precision=0)\n",
    "train_df[['FareBand', 'Survived']].groupby(['FareBand'], as_index=False).mean().sort_values(by='FareBand', ascending=True)\n",
    "combine = [train_df, test_df]\n",
    "\n",
    "interval=train_df['FareBand'].unique().sort_values()\n",
    "\n",
    "for dataset in combine:\n",
    "    dataset.loc[dataset['Fare']<=interval[0].right,'Fare'] = 0\n",
    "    dataset.loc[(dataset['Fare']>interval[1].left)&(dataset['Fare']<=interval[1].right),'Fare'] = 1\n",
    "    dataset.loc[(dataset['Fare']>interval[2].left)&(dataset['Fare']<=interval[2].right),'Fare'] = 2\n",
    "    dataset.loc[(dataset['Fare']>interval[3].left)&(dataset['Fare']<=interval[3].right+1),'Fare'] = 3\n",
    "train_df.drop(['FareBand'], axis=1, inplace=True)\n",
    "\n",
    "print(train_df.head())\n",
    "print(test_df.head())"
   ]
  },
  {
   "cell_type": "code",
   "execution_count": 9,
   "id": "51138a51",
   "metadata": {
    "execution": {
     "iopub.execute_input": "2021-08-12T07:57:01.807981Z",
     "iopub.status.busy": "2021-08-12T07:57:01.684823Z",
     "iopub.status.idle": "2021-08-12T07:57:01.829854Z",
     "shell.execute_reply": "2021-08-12T07:57:01.829219Z",
     "shell.execute_reply.started": "2021-08-12T07:09:26.044802Z"
    },
    "papermill": {
     "duration": 0.169727,
     "end_time": "2021-08-12T07:57:01.829988",
     "exception": false,
     "start_time": "2021-08-12T07:57:01.660261",
     "status": "completed"
    },
    "tags": []
   },
   "outputs": [
    {
     "data": {
      "text/plain": [
       "81.71"
      ]
     },
     "execution_count": 9,
     "metadata": {},
     "output_type": "execute_result"
    }
   ],
   "source": [
    "X_train = train_df.drop('Survived',axis=1)\n",
    "y_train = train_df.Survived\n",
    "X_test = test_df.drop('PassengerId',axis=1).copy()\n",
    "\n",
    "logreg=LogisticRegression()\n",
    "logreg.fit(X_train, y_train)\n",
    "y_pred = logreg.predict(X_test)\n",
    "log_score = round(logreg.score(X_train, y_train)*100,2)\n",
    "log_score"
   ]
  },
  {
   "cell_type": "code",
   "execution_count": 10,
   "id": "35da2d77",
   "metadata": {
    "execution": {
     "iopub.execute_input": "2021-08-12T07:57:01.873298Z",
     "iopub.status.busy": "2021-08-12T07:57:01.872514Z",
     "iopub.status.idle": "2021-08-12T07:57:01.922241Z",
     "shell.execute_reply": "2021-08-12T07:57:01.921747Z",
     "shell.execute_reply.started": "2021-08-12T07:09:26.085964Z"
    },
    "papermill": {
     "duration": 0.075509,
     "end_time": "2021-08-12T07:57:01.922376",
     "exception": false,
     "start_time": "2021-08-12T07:57:01.846867",
     "status": "completed"
    },
    "tags": []
   },
   "outputs": [
    {
     "data": {
      "text/plain": [
       "83.28"
      ]
     },
     "execution_count": 10,
     "metadata": {},
     "output_type": "execute_result"
    }
   ],
   "source": [
    "coeff_df = pd.DataFrame(train_df.columns.delete(0))\n",
    "coeff_df.columns = ['Feature']\n",
    "coeff_df[\"Correlation\"] = pd.Series(logreg.coef_[0])\n",
    "\n",
    "coeff_df.sort_values(by='Correlation', ascending=False)\n",
    "\n",
    "svc = SVC()\n",
    "svc.fit(X_train, y_train)\n",
    "y_pred = svc.predict(X_test)\n",
    "svc_score = round(svc.score(X_train, y_train)*100, 2)\n",
    "svc_score"
   ]
  },
  {
   "cell_type": "code",
   "execution_count": 11,
   "id": "795ebe3e",
   "metadata": {
    "execution": {
     "iopub.execute_input": "2021-08-12T07:57:01.964708Z",
     "iopub.status.busy": "2021-08-12T07:57:01.964076Z",
     "iopub.status.idle": "2021-08-12T07:57:02.872634Z",
     "shell.execute_reply": "2021-08-12T07:57:02.872085Z",
     "shell.execute_reply.started": "2021-08-12T07:09:26.150354Z"
    },
    "papermill": {
     "duration": 0.933065,
     "end_time": "2021-08-12T07:57:02.872767",
     "exception": false,
     "start_time": "2021-08-12T07:57:01.939702",
     "status": "completed"
    },
    "tags": []
   },
   "outputs": [
    {
     "data": {
      "text/plain": [
       "85.63"
      ]
     },
     "execution_count": 11,
     "metadata": {},
     "output_type": "execute_result"
    }
   ],
   "source": [
    "from sklearn.model_selection import GridSearchCV\n",
    "parameters = {'n_neighbors':(3,4,5,6), 'leaf_size':(10,20,30)}\n",
    "knn = KNeighborsClassifier()\n",
    "clf = GridSearchCV(knn, parameters, scoring = 'accuracy')\n",
    "clf.fit(X_train, y_train)\n",
    "clf_best = clf.best_estimator_\n",
    "clf_best.fit(X_train, y_train)\n",
    "y_pred = clf_best.predict(X_test)\n",
    "knn_score = round(clf_best.score(X_train, y_train)*100,2)\n",
    "knn_score"
   ]
  },
  {
   "cell_type": "code",
   "execution_count": 12,
   "id": "e9bc6fe4",
   "metadata": {
    "execution": {
     "iopub.execute_input": "2021-08-12T07:57:02.923780Z",
     "iopub.status.busy": "2021-08-12T07:57:02.922836Z",
     "iopub.status.idle": "2021-08-12T08:01:32.060285Z",
     "shell.execute_reply": "2021-08-12T08:01:32.059656Z"
    },
    "papermill": {
     "duration": 269.169485,
     "end_time": "2021-08-12T08:01:32.060424",
     "exception": false,
     "start_time": "2021-08-12T07:57:02.890939",
     "status": "completed"
    },
    "tags": []
   },
   "outputs": [
    {
     "name": "stdout",
     "output_type": "stream",
     "text": [
      "RandomForestClassifier(max_depth=6, min_samples_split=20, n_estimators=1200)\n"
     ]
    },
    {
     "data": {
      "text/plain": [
       "84.4"
      ]
     },
     "execution_count": 12,
     "metadata": {},
     "output_type": "execute_result"
    }
   ],
   "source": [
    "parameters_RF = {\"n_estimators\":(500,700,900,1100,1200),'min_samples_split':(10,20,30), 'max_depth':(6,8)}\n",
    "RF = RandomForestClassifier()\n",
    "X_train_dummy=pd.get_dummies(X_train)\n",
    "X_test_dummy=pd.get_dummies(X_test)\n",
    "RF_clf = GridSearchCV(RF, parameters_RF, scoring='accuracy')\n",
    "RF_clf.fit(X_train_dummy, y_train)\n",
    "RF_clf_best = RF_clf.best_estimator_\n",
    "print(RF_clf_best)\n",
    "RF_clf_best.fit(X_train_dummy, y_train)\n",
    "predictions=RF_clf_best.predict(X_test_dummy)\n",
    "RF_score = round(RF_clf_best.score(X_train_dummy, y_train)*100,2)\n",
    "RF_score\n",
    "\n"
   ]
  },
  {
   "cell_type": "code",
   "execution_count": 13,
   "id": "dd0f70f5",
   "metadata": {
    "execution": {
     "iopub.execute_input": "2021-08-12T08:01:32.105734Z",
     "iopub.status.busy": "2021-08-12T08:01:32.105094Z",
     "iopub.status.idle": "2021-08-12T08:01:32.112946Z",
     "shell.execute_reply": "2021-08-12T08:01:32.112296Z",
     "shell.execute_reply.started": "2021-08-12T07:10:12.947470Z"
    },
    "papermill": {
     "duration": 0.033425,
     "end_time": "2021-08-12T08:01:32.113110",
     "exception": false,
     "start_time": "2021-08-12T08:01:32.079685",
     "status": "completed"
    },
    "tags": []
   },
   "outputs": [],
   "source": [
    "output = pd.DataFrame({'PassengerId': test_df.PassengerId, 'Survived': predictions})\n",
    "output.to_csv('my_submission.csv', index=False)"
   ]
  }
 ],
 "metadata": {
  "kernelspec": {
   "display_name": "Python 3",
   "language": "python",
   "name": "python3"
  },
  "language_info": {
   "codemirror_mode": {
    "name": "ipython",
    "version": 3
   },
   "file_extension": ".py",
   "mimetype": "text/x-python",
   "name": "python",
   "nbconvert_exporter": "python",
   "pygments_lexer": "ipython3",
   "version": "3.7.10"
  },
  "papermill": {
   "default_parameters": {},
   "duration": 282.787013,
   "end_time": "2021-08-12T08:01:33.811707",
   "environment_variables": {},
   "exception": null,
   "input_path": "__notebook__.ipynb",
   "output_path": "__notebook__.ipynb",
   "parameters": {},
   "start_time": "2021-08-12T07:56:51.024694",
   "version": "2.3.3"
  }
 },
 "nbformat": 4,
 "nbformat_minor": 5
}
